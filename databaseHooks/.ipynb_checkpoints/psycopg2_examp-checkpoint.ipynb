{
 "metadata": {
  "name": ""
 },
 "nbformat": 3,
 "nbformat_minor": 0,
 "worksheets": [
  {
   "cells": [
    {
     "cell_type": "markdown",
     "metadata": {},
     "source": [
      "This code is adapted from the basic psycopg2 tutorial at: http://initd.org/psycopg/docs/usage.html"
     ]
    },
    {
     "cell_type": "code",
     "collapsed": false,
     "input": [
      "import psycopg2\n",
      "import os "
     ],
     "language": "python",
     "metadata": {},
     "outputs": [],
     "prompt_number": 1
    },
    {
     "cell_type": "markdown",
     "metadata": {},
     "source": [
      "##Connecting to the database \n",
      "If you're on campus, you can connect directly to the server using psycopg2's connect command "
     ]
    },
    {
     "cell_type": "code",
     "collapsed": false,
     "input": [
      "## Collect your password from an environment variable\n",
      "PSQLPASS=os.environ.get(\"switchpsqlpass\")\n",
      "\n",
      "# Connect to the database\n",
      "conn = psycopg2.connect(database=\"bgrid\", user=\"mtabone\", password=PSQLPASS, host=\"switch-db2.erg.berkeley.edu\")\n"
     ],
     "language": "python",
     "metadata": {},
     "outputs": [],
     "prompt_number": 5
    },
    {
     "cell_type": "markdown",
     "metadata": {},
     "source": [
      "## Setting up an ssh tunnel to the server\n",
      "This isn't necessary if you're connecting from campus (or using a VPN). But will generally be faster than using a VPN if you're off campus. \n",
      "\n",
      "The ```os.system``` function allows you to call system commands (in this case for UNIX or MAC) from your python code. \n",
      "We want to connect to PostgreSQL on the switch server, which is communicating ont eh default port of 5432. \n",
      "This ssh call has  some special options in order to create a tunnel\n",
      "* ``-f`` requests that ssh run in the background\n",
      "* ``mtabone@switch-db2.erg.berkeley.edu`` connects to the server and authenticates using my RSA key\n",
      "* ``-L`` tells SSH that we're setting up a tunnel\n",
      "* ``5433:localhost:5432`` connects port 5433 on the local machine to 5432 on the remote machine, and \n",
      "* ``-N`` tells SSH that you're not executing any commands on the remote machine. "
     ]
    },
    {
     "cell_type": "code",
     "collapsed": false,
     "input": [
      "# Set up an ssh-tunnel to the database \n",
      "os.system(\"ssh -f mtabone@switch-db2.erg.berkeley.edu -L 5433:localhost:5432 -N\")\n",
      "\n",
      "# connect over this tunnel "
     ],
     "language": "python",
     "metadata": {},
     "outputs": [
      {
       "metadata": {},
       "output_type": "pyout",
       "prompt_number": 2,
       "text": [
        "0"
       ]
      }
     ],
     "prompt_number": 2
    },
    {
     "cell_type": "code",
     "collapsed": false,
     "input": [
      "# Open a cursor to perform database operations\n",
      "cur = conn.cursor()\n",
      "\n",
      "# Execute a command: this creates a new table\n",
      "cur.execute(\"CREATE TABLE test (id serial PRIMARY KEY, num integer, data varchar);\")\n",
      "\n",
      "# Pass data to fill a query placeholders and let Psycopg perform\n",
      "# the correct conversion (no more SQL injections!)\n",
      "cur.execute(\"INSERT INTO test (num, data) VALUES (%s, %s)\",\n",
      "(100, \"abc'def\"))\n",
      "\n",
      "# Query the database and obtain data as Python objects\n",
      "cur.execute(\"SELECT * FROM test;\")\n",
      "cur.fetchone()\n",
      "(1, 100, \"abc'def\")\n",
      "\n",
      "# Make the changes to the database persistent\n",
      "conn.commit()\n",
      "\n",
      "# Close communication with the database\n",
      "cur.close()\n",
      "conn.close()"
     ],
     "language": "python",
     "metadata": {},
     "outputs": [
      {
       "ename": "OperationalError",
       "evalue": "FATAL:  Peer authentication failed for user \"postgres\"\n",
       "output_type": "pyerr",
       "traceback": [
        "\u001b[0;31m---------------------------------------------------------------------------\u001b[0m\n\u001b[0;31mOperationalError\u001b[0m                          Traceback (most recent call last)",
        "\u001b[0;32m<ipython-input-1-c70cd724b3ec>\u001b[0m in \u001b[0;36m<module>\u001b[0;34m()\u001b[0m\n\u001b[1;32m      2\u001b[0m \u001b[0;34m\u001b[0m\u001b[0m\n\u001b[1;32m      3\u001b[0m \u001b[0;31m# Connect to an existing database\u001b[0m\u001b[0;34m\u001b[0m\u001b[0;34m\u001b[0m\u001b[0m\n\u001b[0;32m----> 4\u001b[0;31m \u001b[0mconn\u001b[0m \u001b[0;34m=\u001b[0m \u001b[0mpsycopg2\u001b[0m\u001b[0;34m.\u001b[0m\u001b[0mconnect\u001b[0m\u001b[0;34m(\u001b[0m\u001b[0;34m\"dbname=test user=postgres\"\u001b[0m\u001b[0;34m)\u001b[0m\u001b[0;34m\u001b[0m\u001b[0m\n\u001b[0m\u001b[1;32m      5\u001b[0m \u001b[0;34m\u001b[0m\u001b[0m\n\u001b[1;32m      6\u001b[0m \u001b[0;31m# Open a cursor to perform database operations\u001b[0m\u001b[0;34m\u001b[0m\u001b[0;34m\u001b[0m\u001b[0m\n",
        "\u001b[0;32m/usr/lib/python2.7/dist-packages/psycopg2/__init__.pyc\u001b[0m in \u001b[0;36mconnect\u001b[0;34m(dsn, database, user, password, host, port, connection_factory, async, **kwargs)\u001b[0m\n\u001b[1;32m    177\u001b[0m \u001b[0;34m\u001b[0m\u001b[0m\n\u001b[1;32m    178\u001b[0m     return _connect(dsn,\n\u001b[0;32m--> 179\u001b[0;31m         connection_factory=connection_factory, async=async)\n\u001b[0m\u001b[1;32m    180\u001b[0m \u001b[0;34m\u001b[0m\u001b[0m\n\u001b[1;32m    181\u001b[0m \u001b[0;34m\u001b[0m\u001b[0m\n",
        "\u001b[0;31mOperationalError\u001b[0m: FATAL:  Peer authentication failed for user \"postgres\"\n"
       ]
      }
     ],
     "prompt_number": 1
    }
   ],
   "metadata": {}
  }
 ]
}